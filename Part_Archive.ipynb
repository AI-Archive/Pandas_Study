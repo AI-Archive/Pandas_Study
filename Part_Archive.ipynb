{
 "cells": [
  {
   "cell_type": "code",
   "execution_count": 1,
   "metadata": {},
   "outputs": [],
   "source": [
    "import pandas as pd\n",
    "import numpy as np"
   ]
  },
  {
   "cell_type": "markdown",
   "metadata": {},
   "source": [
    "#### 19. 원소 값 변경 035"
   ]
  },
  {
   "cell_type": "code",
   "execution_count": null,
   "metadata": {},
   "outputs": [],
   "source": [
    "data19 = {'이름': ['서준', '우현', '인아'],\n",
    "        '수학': [90, 80, 70],\n",
    "        '영어': [98, 89, 95],\n",
    "        '음악': [85, 95, 100],\n",
    "        '체육': [100, 90, 90]}\n",
    "\n",
    "df = pd.DataFrame(data19)\n",
    "print(df); print()\n",
    "\n",
    "# '이름' 열을 새로운 인덱스로 지정, df 객체에 변경사항 반영\n",
    "df.set_index('이름', inplace=True)\n",
    "print(df); print()\n",
    "\n",
    "# 데이터프레임 df의 특정 원소를 변경하는 방법: '서준'의 '체육' 점수\n",
    "df.iloc[0][3] = 80\n",
    "print(df); print()\n",
    "\n",
    "df.loc['서준']['체육'] = 90\n",
    "print(df); print()\n",
    "\n",
    "df.loc['서준', '체육'] = 100\n",
    "print(df)"
   ]
  },
  {
   "cell_type": "markdown",
   "metadata": {},
   "source": [
    "#### 20. 원소 값 변경 036"
   ]
  },
  {
   "cell_type": "code",
   "execution_count": null,
   "metadata": {},
   "outputs": [],
   "source": [
    "# 데이터프레임 df의 원소 여러 개를 변경하는 방법 : '서준'의 '음악', '체육' 점수\n",
    "df.loc['서준', ['음악', '체육']] = 50\n",
    "print(df); print()\n",
    "\n",
    "df.loc['서준', ['음악', '체육']] = 100, 50\n",
    "print(df)"
   ]
  },
  {
   "cell_type": "markdown",
   "metadata": {},
   "source": [
    "#### 21. 행, 열 바꾸기 038"
   ]
  },
  {
   "cell_type": "code",
   "execution_count": null,
   "metadata": {},
   "outputs": [],
   "source": [
    "data21 = {'이름': ['서준', '우현', '인아'],\n",
    "        '수학': [90, 80, 70],\n",
    "        '영어': [98, 89, 95],\n",
    "        '음악': [85, 95, 100],\n",
    "        '체육': [100, 90, 90]}\n",
    "\n",
    "df = pd.DataFrame(data21)\n",
    "print(df); print()\n",
    "\n",
    "# 데이터프레임 df를 전치하기 (메서드 활용)\n",
    "df = df.transpose()\n",
    "print(df); print()\n",
    "\n",
    "# 데이터프레임 df를 다시 전치하기(클래스 속성 활용)\n",
    "df = df.T\n",
    "print(df)"
   ]
  },
  {
   "cell_type": "markdown",
   "metadata": {},
   "source": [
    "---\n",
    "인덱스 활용"
   ]
  },
  {
   "cell_type": "markdown",
   "metadata": {},
   "source": [
    "#### 22. 특정 열 행 인덱스로 설정 039"
   ]
  },
  {
   "cell_type": "code",
   "execution_count": null,
   "metadata": {},
   "outputs": [],
   "source": [
    "data21 = {'이름': ['서준', '우현', '인아'],\n",
    "        '수학': [90, 80, 70],\n",
    "        '영어': [98, 89, 95],\n",
    "        '음악': [85, 95, 100],\n",
    "        '체육': [100, 90, 90]}\n",
    "\n",
    "df = pd.DataFrame(data21)\n",
    "print(df); print()\n",
    "\n",
    "# 특정 열(column)을 데이터프레임의 행 인덱스(index)로 설정\n",
    "ndf = df.set_index(['이름'])\n",
    "print(ndf); print()\n",
    "\n",
    "ndf2 = ndf.set_index('음악')\n",
    "print(ndf2); print()\n",
    "\n",
    "ndf3 = ndf.set_index(['수학', '음악'])\n",
    "print(ndf3); print()"
   ]
  },
  {
   "cell_type": "markdown",
   "metadata": {},
   "source": [
    "#### 23. 행 인덱스 재배열 042"
   ]
  },
  {
   "cell_type": "code",
   "execution_count": null,
   "metadata": {},
   "outputs": [],
   "source": [
    "\n",
    "dict_data = {'c0':[1, 2, 3], 'c1':[4, 5, 6], 'c2':[7, 8, 9], 'c3':[10, 11, 12], 'c4':[13, 14, 15]}\n",
    "\n",
    "# 딕셔너리를 데이터프레임으로 변환, 인덱스를 [r0, r1, r2]로 지정\n",
    "df = pd.DataFrame(dict_data, index=['r0', 'r1', 'r2'])\n",
    "print(df); print()\n",
    "\n",
    "# 인덱스를 [r0, r1, r2, r3, r4]로 재지정\n",
    "new_index = ['r0', 'r1', 'r2', 'r3', 'r4']\n",
    "ndf = df.reindex(new_index)\n",
    "print(ndf); print()\n",
    "\n",
    "# reindex로 발생한 NaN 값을 숫자 0으로 채우기\n",
    "new_index = ['r0', 'r1', 'r2', 'r3', 'r4']\n",
    "ndf2 = df.reindex(new_index, fill_value=0)\n",
    "print(ndf2)"
   ]
  },
  {
   "cell_type": "markdown",
   "metadata": {},
   "source": [
    "#### 24. 행 인덱스 초기화 042"
   ]
  },
  {
   "cell_type": "code",
   "execution_count": null,
   "metadata": {},
   "outputs": [],
   "source": [
    "dict_data = {'c0':[1, 2, 3], 'c1':[4, 5, 6], 'c2':[7, 8, 9], 'c3':[10, 11, 12], 'c4':[13, 14, 15]}\n",
    "\n",
    "# 딕셔너리를 데이터프레임으로 변환. 인덱스를 [r0, r1, r2]\n",
    "df = pd.DataFrame(dict_data, index=['r0', 'r1', 'r2'])\n",
    "print(df); print()\n",
    "\n",
    "# 행 인덱스를 정수형으로 초기화\n",
    "ndf = df.reset_index()\n",
    "print(ndf)"
   ]
  },
  {
   "cell_type": "markdown",
   "metadata": {},
   "source": [
    "#### 25. 행 인덱스 기준 데이터프레임 정렬 043"
   ]
  },
  {
   "cell_type": "code",
   "execution_count": null,
   "metadata": {},
   "outputs": [],
   "source": [
    "dict_data = {'c0':[1, 2, 3], 'c1':[4, 5, 6], 'c2':[7, 8, 9], 'c3':[10, 11, 12], 'c4':[13, 14, 15]}\n",
    "\n",
    "# 딕셔너리를 데이터프레임으로 변환. 인덱스를 [r0, r1, r2]로 지정\n",
    "df = pd.DataFrame(dict_data, index=['r0', 'r1', 'r2'])\n",
    "print(df); print()\n",
    "\n",
    "# 내림차순으로 행 인덱스 정렬\n",
    "ndf = df.sort_index(ascending=False)\n",
    "print(ndf)"
   ]
  },
  {
   "cell_type": "markdown",
   "metadata": {},
   "source": [
    "#### 26. 열 기준 정렬"
   ]
  },
  {
   "cell_type": "code",
   "execution_count": null,
   "metadata": {},
   "outputs": [],
   "source": [
    "dict_data = {'c0':[1, 2, 3], 'c1':[4, 5, 6], 'c2':[7, 8, 9], 'c3':[10, 11, 12], 'c4':[13, 14, 15]}\n",
    "\n",
    "# 딕셔너리를 데이터프레임으로 변환. 인덱스를 [r0, r1, r2]로 지정\n",
    "df = pd.DataFrame(dict_data, index=['r0', 'r1', 'r2'])\n",
    "print(df); print()\n",
    "\n",
    "# c1 열을 기준으로 내림차순 정렬\n",
    "ndf = df.sort_values(by='c1', ascending=False)\n",
    "print(ndf)"
   ]
  },
  {
   "cell_type": "markdown",
   "metadata": {},
   "source": [
    "---\n",
    "산술연산"
   ]
  },
  {
   "cell_type": "markdown",
   "metadata": {},
   "source": [
    "#### 27. 시리즈 vs 숫자 046"
   ]
  },
  {
   "cell_type": "code",
   "execution_count": null,
   "metadata": {},
   "outputs": [],
   "source": [
    "student1 = pd.Series({'국어':100, '영어':80, '수학': 90})\n",
    "print(student1); print()\n",
    "\n",
    "# 학생의 과목별 점수를 200으로 나누기\n",
    "percentage = student1 / 200\n",
    "\n",
    "print(percentage)"
   ]
  },
  {
   "cell_type": "markdown",
   "metadata": {},
   "source": [
    "#### 28. 시리즈 vs 시리즈 047"
   ]
  },
  {
   "cell_type": "code",
   "execution_count": null,
   "metadata": {},
   "outputs": [],
   "source": [
    "student1 = pd.Series({'국어': 100, '영어': 80, '수학':90})\n",
    "student2 = pd.Series({'수학':80, '국어':90, '영어':80})\n",
    "\n",
    "print(student1); print()\n",
    "print(student2); print()\n",
    "\n",
    "# 두 학생의 과목별 점수로 사칙연산 수행\n",
    "addition = student1 + student2  # 덧셈\n",
    "substraction = student1 - student2  # 뺄셈\n",
    "multiplication = student1 * student2 # 곱셈\n",
    "division = student1 / student2 # 나눗셈\n",
    "\n",
    "# 사칙연산 결과를 데이터프레임으로 합치기 (시리즈 -> 데이터프레임)\n",
    "result = pd.DataFrame([addition, substraction, multiplication, division],\n",
    "                      index=['덧셈', '뺄셈', '곱셈', '나눗셈'])\n",
    "\n",
    "result"
   ]
  },
  {
   "cell_type": "markdown",
   "metadata": {},
   "source": [
    "#### 29. NaN 값이 있는 시리즈 연산 050"
   ]
  },
  {
   "cell_type": "code",
   "execution_count": null,
   "metadata": {},
   "outputs": [],
   "source": [
    "student1 = pd.Series({'국어':np.nan, '영어':80, '수학':90})\n",
    "student2 = pd.Series({'수학':80, '국어':90})\n",
    "\n",
    "print(student1); print()\n",
    "print(student2); print()\n",
    "\n",
    "# 두 학생의 과목별 점수로 사칙연산 수행\n",
    "addition = student1 + student2  # 덧셈\n",
    "substraction = student1 - student2  # 뺄셈\n",
    "multiplication = student1 * student2 # 곱셈\n",
    "division = student1 / student2 # 나눗셈\n",
    "\n",
    "# 사칙연산 결과를 데이터프레임으로 합치기 (시리즈 -> 데이터프레임)\n",
    "result = pd.DataFrame([addition, substraction, multiplication, division],\n",
    "                      index=['덧셈', '뺄셈', '곱셈', '나눗셈'])\n",
    "\n",
    "result"
   ]
  },
  {
   "cell_type": "markdown",
   "metadata": {},
   "source": [
    "#### 30. 연산 메서드 051"
   ]
  },
  {
   "cell_type": "code",
   "execution_count": null,
   "metadata": {},
   "outputs": [],
   "source": [
    "student1 = pd.Series({'국어':np.nan, '영어':80, '수학':90})\n",
    "student2 = pd.Series({'수학':80, '국어':90})\n",
    "\n",
    "print(student1); print()\n",
    "print(student2); print()\n",
    "\n",
    "# 두 학생의 과목별 점수로 사칙연산 수행 (연산 메서드 사용)\n",
    "sr_add = student1.add(student2, fill_value=0)   # 덧셈\n",
    "sr_sub = student1.sub(student2, fill_value=0)   # 뺄셈\n",
    "sr_mul = student1.mul(student2, fill_value=0)   # 곱셈\n",
    "sr_div = student1.div(student2, fill_value=0)   # 나눗셈\n",
    "\n",
    "# 사칙연산 결과를 데이터프레임으로 합치기 (시리즈 -> 데이터프레임)\n",
    "result = pd.DataFrame([sr_add, sr_sub, sr_mul, sr_div],\n",
    "                      index=['덧셈', '뺄셈', '곱셈', '나눗셈'])\n",
    "result"
   ]
  },
  {
   "cell_type": "markdown",
   "metadata": {},
   "source": [
    "#### 31. 데이터프레임 vs 숫자 053"
   ]
  },
  {
   "cell_type": "code",
   "execution_count": null,
   "metadata": {},
   "outputs": [],
   "source": [
    "import seaborn as sns\n",
    "\n",
    "# titanic 데이터셋에서 age, fare 2개 열을 선택하여 데이터프레임 만들기\n",
    "titanic = sns.load_dataset('titanic')\n",
    "df = titanic.loc[:, ['age','fare']]\n",
    "\n",
    "print(df.head()); print()   # 첫 5행 표시\n",
    "\n",
    "# 데이터프레임에 숫자 10 더하기\n",
    "addition = df + 10\n",
    "\n",
    "print(addition); print()"
   ]
  },
  {
   "cell_type": "markdown",
   "metadata": {},
   "source": [
    "#### 32. 데이터프레임 vs 데이터프레임 054"
   ]
  },
  {
   "cell_type": "code",
   "execution_count": null,
   "metadata": {},
   "outputs": [],
   "source": [
    "import seaborn as sns\n",
    "\n",
    "# titanic 데이터셋에서 age, fare 2개 열을 선택하여 데이터프레임 만들기\n",
    "titanic = sns.load_dataset('titanic')\n",
    "df = titanic.loc[:, ['age', 'fare']]\n",
    "\n",
    "print(df); print()\n",
    "\n",
    "# 데이터프레임에 숫자 10 더하기\n",
    "addition = df + 10\n",
    "print(addition.tail()); print()\n",
    "\n",
    "# 데이터프레임에 숫자 10 빼기\n",
    "substraction = addition - df\n",
    "print(substraction)"
   ]
  }
 ],
 "metadata": {
  "kernelspec": {
   "display_name": "Python 3.9.13 ('base')",
   "language": "python",
   "name": "python3"
  },
  "language_info": {
   "codemirror_mode": {
    "name": "ipython",
    "version": 3
   },
   "file_extension": ".py",
   "mimetype": "text/x-python",
   "name": "python",
   "nbconvert_exporter": "python",
   "pygments_lexer": "ipython3",
   "version": "3.9.13"
  },
  "orig_nbformat": 4,
  "vscode": {
   "interpreter": {
    "hash": "1bacc43f3a5794ff21941cbe3bd67ad18cddb0ff963b4f1013ddec33c94b376d"
   }
  }
 },
 "nbformat": 4,
 "nbformat_minor": 2
}
