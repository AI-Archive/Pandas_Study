{
 "cells": [
  {
   "cell_type": "code",
   "execution_count": 17,
   "metadata": {},
   "outputs": [],
   "source": [
    "import pandas as pd\n",
    "import numpy as np"
   ]
  },
  {
   "cell_type": "code",
   "execution_count": 18,
   "metadata": {},
   "outputs": [],
   "source": [
    "# 091 데이터프레임 생성 (컬럼 단위) : 컬럼 단위로 raw 데이터를 표현해서 데이터프레임 생성"
   ]
  },
  {
   "cell_type": "code",
   "execution_count": 19,
   "metadata": {},
   "outputs": [],
   "source": [
    "# 092 데이터프레임 생성 (2차원 리스트) : 아래 표와 같은 데이터프레임 생성."
   ]
  },
  {
   "cell_type": "code",
   "execution_count": 20,
   "metadata": {},
   "outputs": [],
   "source": [
    "# 093 데이터프레임 생성 (딕셔너리 리스트) : 아래 표와 같은 데이터프레임 생성"
   ]
  },
  {
   "cell_type": "code",
   "execution_count": 21,
   "metadata": {},
   "outputs": [],
   "source": [
    "# 094 데이터프레임 인덱스 설정 : 인덱스 name 속성을 \"종목코드\" 로 설정\n",
    "data = [\n",
    "    [\"037730\", \"3R\", 1510, 7.36],\n",
    "    [\"036360\", \"3SOFT\", 1790, 1.65],\n",
    "    [\"005760\", \"ACTS\", 1185, 1.28],\n",
    "]\n",
    "columns = [\"종목코드\", \"종목명\", \"현재가\", \"등락률\"]\n",
    "df = pd.DataFrame(data=data, columns=columns)"
   ]
  },
  {
   "cell_type": "code",
   "execution_count": 22,
   "metadata": {},
   "outputs": [
    {
     "data": {
      "text/html": [
       "<div>\n",
       "<style scoped>\n",
       "    .dataframe tbody tr th:only-of-type {\n",
       "        vertical-align: middle;\n",
       "    }\n",
       "\n",
       "    .dataframe tbody tr th {\n",
       "        vertical-align: top;\n",
       "    }\n",
       "\n",
       "    .dataframe thead th {\n",
       "        text-align: right;\n",
       "    }\n",
       "</style>\n",
       "<table border=\"1\" class=\"dataframe\">\n",
       "  <thead>\n",
       "    <tr style=\"text-align: right;\">\n",
       "      <th></th>\n",
       "      <th>종목명</th>\n",
       "      <th>현재가</th>\n",
       "    </tr>\n",
       "  </thead>\n",
       "  <tbody>\n",
       "    <tr>\n",
       "      <th>037730</th>\n",
       "      <td>3R</td>\n",
       "      <td>1510</td>\n",
       "    </tr>\n",
       "    <tr>\n",
       "      <th>036360</th>\n",
       "      <td>3SOFT</td>\n",
       "      <td>1790</td>\n",
       "    </tr>\n",
       "    <tr>\n",
       "      <th>005760</th>\n",
       "      <td>ACTS</td>\n",
       "      <td>1185</td>\n",
       "    </tr>\n",
       "  </tbody>\n",
       "</table>\n",
       "</div>"
      ],
      "text/plain": [
       "          종목명   현재가\n",
       "037730     3R  1510\n",
       "036360  3SOFT  1790\n",
       "005760   ACTS  1185"
      ]
     },
     "execution_count": 22,
     "metadata": {},
     "output_type": "execute_result"
    }
   ],
   "source": [
    "# 095 data, index, columns : 데이터프레임 객체 생성\n",
    "index = [\"037730\", \"036360\", \"005760\"]\n",
    "data = [[\"3R\", \"1510\"],\n",
    "         [\"3SOFT\", 1790],\n",
    "         [\"ACTS\", 1185]]\n",
    "columns = [\"종목명\", \"현재가\"]\n",
    "\n",
    "df = pd.DataFrame(data=data, index=index, columns=columns)\n",
    "df\n"
   ]
  },
  {
   "cell_type": "code",
   "execution_count": 24,
   "metadata": {},
   "outputs": [
    {
     "data": {
      "text/html": [
       "<div>\n",
       "<style scoped>\n",
       "    .dataframe tbody tr th:only-of-type {\n",
       "        vertical-align: middle;\n",
       "    }\n",
       "\n",
       "    .dataframe tbody tr th {\n",
       "        vertical-align: top;\n",
       "    }\n",
       "\n",
       "    .dataframe thead th {\n",
       "        text-align: right;\n",
       "    }\n",
       "</style>\n",
       "<table border=\"1\" class=\"dataframe\">\n",
       "  <thead>\n",
       "    <tr style=\"text-align: right;\">\n",
       "      <th></th>\n",
       "      <th>0</th>\n",
       "      <th>1</th>\n",
       "      <th>2</th>\n",
       "      <th>3</th>\n",
       "    </tr>\n",
       "  </thead>\n",
       "  <tbody>\n",
       "    <tr>\n",
       "      <th>0</th>\n",
       "      <td>0</td>\n",
       "      <td>1</td>\n",
       "      <td>2</td>\n",
       "      <td>3</td>\n",
       "    </tr>\n",
       "    <tr>\n",
       "      <th>1</th>\n",
       "      <td>4</td>\n",
       "      <td>5</td>\n",
       "      <td>6</td>\n",
       "      <td>7</td>\n",
       "    </tr>\n",
       "  </tbody>\n",
       "</table>\n",
       "</div>"
      ],
      "text/plain": [
       "   0  1  2  3\n",
       "0  0  1  2  3\n",
       "1  4  5  6  7"
      ]
     },
     "execution_count": 24,
     "metadata": {},
     "output_type": "execute_result"
    }
   ],
   "source": [
    "# 096 numpy reshape : arange, reshape 사용\n",
    "pd.DataFrame(np.arange(8).reshape(2, 4))"
   ]
  },
  {
   "cell_type": "code",
   "execution_count": 30,
   "metadata": {},
   "outputs": [
    {
     "data": {
      "text/html": [
       "<div>\n",
       "<style scoped>\n",
       "    .dataframe tbody tr th:only-of-type {\n",
       "        vertical-align: middle;\n",
       "    }\n",
       "\n",
       "    .dataframe tbody tr th {\n",
       "        vertical-align: top;\n",
       "    }\n",
       "\n",
       "    .dataframe thead th {\n",
       "        text-align: right;\n",
       "    }\n",
       "</style>\n",
       "<table border=\"1\" class=\"dataframe\">\n",
       "  <thead>\n",
       "    <tr style=\"text-align: right;\">\n",
       "      <th></th>\n",
       "      <th>index</th>\n",
       "      <th>종목명</th>\n",
       "      <th>현재가</th>\n",
       "    </tr>\n",
       "  </thead>\n",
       "  <tbody>\n",
       "    <tr>\n",
       "      <th>0</th>\n",
       "      <td>037730</td>\n",
       "      <td>3R</td>\n",
       "      <td>1510</td>\n",
       "    </tr>\n",
       "    <tr>\n",
       "      <th>1</th>\n",
       "      <td>036360</td>\n",
       "      <td>3SOFT</td>\n",
       "      <td>1790</td>\n",
       "    </tr>\n",
       "    <tr>\n",
       "      <th>2</th>\n",
       "      <td>005760</td>\n",
       "      <td>ACTS</td>\n",
       "      <td>1185</td>\n",
       "    </tr>\n",
       "  </tbody>\n",
       "</table>\n",
       "</div>"
      ],
      "text/plain": [
       "    index    종목명   현재가\n",
       "0  037730     3R  1510\n",
       "1  036360  3SOFT  1790\n",
       "2  005760   ACTS  1185"
      ]
     },
     "execution_count": 30,
     "metadata": {},
     "output_type": "execute_result"
    }
   ],
   "source": [
    "# 097 reset_index : 인덱스를 컬럼으로 변경\n",
    "\n",
    "index = [\"037730\", \"036360\", \"005760\"]\n",
    "data = [[\"3R\", \"1510\"],\n",
    "         [\"3SOFT\", 1790],\n",
    "         [\"ACTS\", 1185]]\n",
    "columns = [\"종목명\", \"현재가\"]\n",
    "df = pd.DataFrame(data=data, index=index, columns=columns)\n",
    "\n",
    "# df\n",
    "df.reset_index()\n"
   ]
  },
  {
   "cell_type": "code",
   "execution_count": 33,
   "metadata": {},
   "outputs": [
    {
     "data": {
      "text/plain": [
       "Index(['037730', '036360', '005760'], dtype='object')"
      ]
     },
     "execution_count": 33,
     "metadata": {},
     "output_type": "execute_result"
    }
   ],
   "source": [
    "# 098 index : 인덱스 출력\n",
    "index = [\"037730\", \"036360\", \"005760\"]\n",
    "data = [[\"3R\", \"1510\"],\n",
    "         [\"3SOFT\", 1790],\n",
    "         [\"ACTS\", 1185]]\n",
    "columns = [\"종목명\", \"현재가\"]\n",
    "df = pd.DataFrame(data=data, index=index, columns=columns)\n",
    "\n",
    "# df\n",
    "df.reset_index()\n",
    "\n",
    "df.index"
   ]
  },
  {
   "cell_type": "code",
   "execution_count": 35,
   "metadata": {},
   "outputs": [
    {
     "data": {
      "text/plain": [
       "Index(['종목명', '현재가'], dtype='object')"
      ]
     },
     "execution_count": 35,
     "metadata": {},
     "output_type": "execute_result"
    }
   ],
   "source": [
    "# 099 DataFrame.columns : 위 데이터프레임의 컬럼\n",
    "index = [\"037730\", \"036360\", \"005760\"]\n",
    "data = [[\"3R\", \"1510\"],\n",
    "         [\"3SOFT\", 1790],\n",
    "         [\"ACTS\", 1185]]\n",
    "columns = [\"종목명\", \"현재가\"]\n",
    "df = pd.DataFrame(data=data, index=index, columns=columns)\n",
    "\n",
    "# df\n",
    "df.reset_index()\n",
    "\n",
    "df.columns"
   ]
  },
  {
   "cell_type": "code",
   "execution_count": 37,
   "metadata": {},
   "outputs": [
    {
     "data": {
      "text/plain": [
       "col1    int8\n",
       "col2    int8\n",
       "dtype: object"
      ]
     },
     "execution_count": 37,
     "metadata": {},
     "output_type": "execute_result"
    }
   ],
   "source": [
    "# 100 DataFrame dtype : 다음 데이터를 부호가 없는 8비트 정수데이터 가지 df 생성\n",
    "d = {'col1': [1, 2], 'col2': [3, 4]}\n",
    "df = pd.DataFrame(data=d, dtype=np.int8)\n",
    "df.dtypes"
   ]
  }
 ],
 "metadata": {
  "kernelspec": {
   "display_name": "Python 3.9.13 ('base')",
   "language": "python",
   "name": "python3"
  },
  "language_info": {
   "codemirror_mode": {
    "name": "ipython",
    "version": 3
   },
   "file_extension": ".py",
   "mimetype": "text/x-python",
   "name": "python",
   "nbconvert_exporter": "python",
   "pygments_lexer": "ipython3",
   "version": "3.9.13"
  },
  "orig_nbformat": 4,
  "vscode": {
   "interpreter": {
    "hash": "1bacc43f3a5794ff21941cbe3bd67ad18cddb0ff963b4f1013ddec33c94b376d"
   }
  }
 },
 "nbformat": 4,
 "nbformat_minor": 2
}
