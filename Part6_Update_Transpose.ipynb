{
 "cells": [
  {
   "cell_type": "code",
   "execution_count": 1,
   "metadata": {},
   "outputs": [],
   "source": [
    "import pandas as pd\n",
    "import numpy as np"
   ]
  },
  {
   "cell_type": "markdown",
   "metadata": {},
   "source": [
    "---\n",
    "### 1. 요소 값 변경"
   ]
  },
  {
   "cell_type": "markdown",
   "metadata": {},
   "source": [
    "#### 1-1. 단일 요소 값 변경"
   ]
  },
  {
   "cell_type": "code",
   "execution_count": null,
   "metadata": {},
   "outputs": [],
   "source": [
    "data19 = {'이름': ['서준', '우현', '인아'],\n",
    "        '수학': [90, 80, 70],\n",
    "        '영어': [98, 89, 95],\n",
    "        '음악': [85, 95, 100],\n",
    "        '체육': [100, 90, 90]}\n",
    "\n",
    "df = pd.DataFrame(data19)\n",
    "print(df); print()\n",
    "\n",
    "# '이름' 열을 새로운 인덱스로 지정, df 객체에 변경사항 반영\n",
    "df.set_index('이름', inplace=True)\n",
    "print(df); print()\n",
    "\n",
    "# 데이터프레임 df의 특정 원소를 변경하는 방법: '서준'의 '체육' 점수\n",
    "df.iloc[0][3] = 80\n",
    "print(df); print()\n",
    "\n",
    "df.loc['서준']['체육'] = 90\n",
    "print(df); print()\n",
    "\n",
    "df.loc['서준', '체육'] = 100\n",
    "print(df)"
   ]
  },
  {
   "cell_type": "markdown",
   "metadata": {},
   "source": [
    "#### 1-2. 여러 요소 값 변경"
   ]
  },
  {
   "cell_type": "code",
   "execution_count": null,
   "metadata": {},
   "outputs": [],
   "source": [
    "# 데이터프레임 df의 원소 여러 개를 변경하는 방법 : '서준'의 '음악', '체육' 점수\n",
    "df.loc['서준', ['음악', '체육']] = 50\n",
    "print(df); print()\n",
    "\n",
    "df.loc['서준', ['음악', '체육']] = 100, 50\n",
    "print(df)"
   ]
  },
  {
   "cell_type": "markdown",
   "metadata": {},
   "source": [
    "---\n",
    "### 행, 열 바꾸기"
   ]
  },
  {
   "cell_type": "code",
   "execution_count": null,
   "metadata": {},
   "outputs": [],
   "source": [
    "data21 = {'이름': ['서준', '우현', '인아'],\n",
    "        '수학': [90, 80, 70],\n",
    "        '영어': [98, 89, 95],\n",
    "        '음악': [85, 95, 100],\n",
    "        '체육': [100, 90, 90]}\n",
    "\n",
    "df = pd.DataFrame(data21)\n",
    "print(df); print()\n",
    "\n",
    "# 데이터프레임 df를 전치하기 (메서드 활용)\n",
    "df = df.transpose()\n",
    "print(df); print()\n",
    "\n",
    "# 데이터프레임 df를 다시 전치하기(클래스 속성 활용)\n",
    "df = df.T\n",
    "print(df)"
   ]
  }
 ],
 "metadata": {
  "kernelspec": {
   "display_name": "Python 3.9.13 ('base')",
   "language": "python",
   "name": "python3"
  },
  "language_info": {
   "codemirror_mode": {
    "name": "ipython",
    "version": 3
   },
   "file_extension": ".py",
   "mimetype": "text/x-python",
   "name": "python",
   "nbconvert_exporter": "python",
   "pygments_lexer": "ipython3",
   "version": "3.9.13"
  },
  "orig_nbformat": 4,
  "vscode": {
   "interpreter": {
    "hash": "1bacc43f3a5794ff21941cbe3bd67ad18cddb0ff963b4f1013ddec33c94b376d"
   }
  }
 },
 "nbformat": 4,
 "nbformat_minor": 2
}
