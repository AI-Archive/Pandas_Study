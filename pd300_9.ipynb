{
 "cells": [
  {
   "cell_type": "code",
   "execution_count": 1,
   "metadata": {},
   "outputs": [],
   "source": [
    "import pandas as pd\n",
    "from pandas import Series\n",
    "import numpy as np"
   ]
  },
  {
   "cell_type": "code",
   "execution_count": 3,
   "metadata": {},
   "outputs": [
    {
     "data": {
      "text/plain": [
       "철수    100\n",
       "영희    200\n",
       "아름    300\n",
       "순이    400\n",
       "dtype: int64"
      ]
     },
     "execution_count": 3,
     "metadata": {},
     "output_type": "execute_result"
    }
   ],
   "source": [
    "# 081 시리즈 추가\n",
    "data = [100, 200, 300]\n",
    "index = [\"철수\", \"영희\", \"아름\"]\n",
    "s = Series(data, index)\n",
    "s.loc[\"순이\"] = 400\n",
    "s"
   ]
  },
  {
   "cell_type": "code",
   "execution_count": 7,
   "metadata": {},
   "outputs": [
    {
     "data": {
      "text/plain": [
       "영희    200\n",
       "아름    300\n",
       "dtype: int64"
      ]
     },
     "execution_count": 7,
     "metadata": {},
     "output_type": "execute_result"
    }
   ],
   "source": [
    "# 082 시리즈 삭제 : 시리즈에 철수 삭제\n",
    "data = [100, 200, 300]\n",
    "index = [\"철수\", \"영희\", \"아름\"]\n",
    "s = Series(data, index)\n",
    "\n",
    "s = s.drop(\"철수\")\n",
    "\n",
    "# s = s.iloc[1:]\n",
    "s"
   ]
  },
  {
   "cell_type": "code",
   "execution_count": 10,
   "metadata": {},
   "outputs": [
    {
     "data": {
      "text/plain": [
       "영희    200\n",
       "아름    300\n",
       "dtype: int64"
      ]
     },
     "execution_count": 10,
     "metadata": {},
     "output_type": "execute_result"
    }
   ],
   "source": [
    "# 083 시리즈 삭제 (inplace) : 시리즈 객체에서 drop 메서드를 사용하여 철수를 삭제, inplace=True를 사용\n",
    "data = [100, 200, 300]\n",
    "index = [\"철수\", \"영희\", \"아름\"]\n",
    "s = Series(data, index)\n",
    "s.drop(\"철수\", inplace=True)    # inplace=True 원본 데이터도 수정\n",
    "s"
   ]
  },
  {
   "cell_type": "code",
   "execution_count": 13,
   "metadata": {},
   "outputs": [
    {
     "data": {
      "text/plain": [
       "array(['전기,전자', '운수장비', '서비스업'], dtype=object)"
      ]
     },
     "execution_count": 13,
     "metadata": {},
     "output_type": "execute_result"
    }
   ],
   "source": [
    "# 084 unique : 중복값 제외 출력\n",
    "data = {\n",
    "    \"삼성전자\": \"전기,전자\",\n",
    "    \"LG전자\": \"전기,전자\",\n",
    "    \"현대차\": \"운수장비\",\n",
    "    \"NAVER\": \"서비스업\",\n",
    "    \"카카오\": \"서비스업\"\n",
    "}\n",
    "s = Series(data)\n",
    "s.unique()"
   ]
  },
  {
   "cell_type": "code",
   "execution_count": 14,
   "metadata": {},
   "outputs": [
    {
     "data": {
      "text/plain": [
       "array([ 9000,  8000, 10000], dtype=int64)"
      ]
     },
     "execution_count": 14,
     "metadata": {},
     "output_type": "execute_result"
    }
   ],
   "source": [
    "# 085 unique : 한 번이라도 야근한 직원들의 명부 출력\n",
    "s = pd.Series(\n",
    "    data = [9000, 9000, 8000, 9000, 10000],\n",
    "    index = ['김과장', '이대리', '박전무', '이대리', '이대리']\n",
    ")\n",
    "\n",
    "s.unique()"
   ]
  },
  {
   "cell_type": "code",
   "execution_count": 16,
   "metadata": {},
   "outputs": [
    {
     "data": {
      "text/plain": [
       "9000     3\n",
       "8000     1\n",
       "10000    1\n",
       "dtype: int64"
      ]
     },
     "execution_count": 16,
     "metadata": {},
     "output_type": "execute_result"
    }
   ],
   "source": [
    "# 086 value_counts : 식대 금액별로 횟수 출력\n",
    "s = pd.Series(\n",
    "    data = [9000, 9000, 8000, 9000, 10000],\n",
    "    index = ['김과장', '이대리', '박전무', '이대리', '이대리']\n",
    ")\n",
    "\n",
    "s.value_counts()"
   ]
  },
  {
   "cell_type": "code",
   "execution_count": 20,
   "metadata": {},
   "outputs": [
    {
     "data": {
      "text/plain": [
       "이대리    3\n",
       "김과장    1\n",
       "박전무    1\n",
       "dtype: int64"
      ]
     },
     "execution_count": 20,
     "metadata": {},
     "output_type": "execute_result"
    }
   ],
   "source": [
    "# 087 value_counts : 직원별 야근 회수\n",
    "s = pd.Series(\n",
    "    data = [9000, 9000, 8000, 9000, 10000],\n",
    "    index = ['김과장', '이대리', '박전무', '이대리', '이대리']\n",
    ")\n",
    "\n",
    "s.index.value_counts()"
   ]
  },
  {
   "cell_type": "code",
   "execution_count": null,
   "metadata": {},
   "outputs": [],
   "source": [
    "# 088 value_counts : 업종별 발생 횟수\n",
    "data = {\n",
    "    \"삼성전자\": \"전기,전자\",\n",
    "    \"LG전자\": \"전기,전자\",\n",
    "    \"현대차\": \"운수장비\",\n",
    "    \"NAVER\": \"서비스업\",\n",
    "    \"카카오\": \"서비스업\"\n",
    "}\n",
    "s = Series(data)\n",
    "\n"
   ]
  }
 ],
 "metadata": {
  "kernelspec": {
   "display_name": "Python 3.9.13 ('base')",
   "language": "python",
   "name": "python3"
  },
  "language_info": {
   "codemirror_mode": {
    "name": "ipython",
    "version": 3
   },
   "file_extension": ".py",
   "mimetype": "text/x-python",
   "name": "python",
   "nbconvert_exporter": "python",
   "pygments_lexer": "ipython3",
   "version": "3.9.13"
  },
  "orig_nbformat": 4,
  "vscode": {
   "interpreter": {
    "hash": "1bacc43f3a5794ff21941cbe3bd67ad18cddb0ff963b4f1013ddec33c94b376d"
   }
  }
 },
 "nbformat": 4,
 "nbformat_minor": 2
}
