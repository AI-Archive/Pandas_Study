{
 "cells": [
  {
   "cell_type": "code",
   "execution_count": 1,
   "metadata": {},
   "outputs": [],
   "source": [
    "import pandas as pd\n",
    "import numpy as np"
   ]
  },
  {
   "cell_type": "markdown",
   "metadata": {},
   "source": [
    "---\n",
    "### 1. 행 선택\n",
    "데이터의 행을 선택하는 방법"
   ]
  },
  {
   "cell_type": "code",
   "execution_count": null,
   "metadata": {},
   "outputs": [],
   "source": [
    "# 사용 데이터\n",
    "data = {'수학': [90, 80, 70], '영어': [98, 89, 95],\n",
    "        '음악': [85, 95, 100], '체육': [100, 90, 90]}\n",
    "\n",
    "df = pd.DataFrame(data, index=['서준', '우현', '인아'])\n",
    "print(df); print()"
   ]
  },
  {
   "cell_type": "markdown",
   "metadata": {},
   "source": [
    "#### 1-1. 행 선택"
   ]
  },
  {
   "cell_type": "code",
   "execution_count": null,
   "metadata": {},
   "outputs": [],
   "source": [
    "# 행 인덱스를 사용하여 행 1개 선택\n",
    "label1 = df.loc['서준']\n",
    "position1 = df.iloc[0]\n",
    "\n",
    "print(label1); print()\n",
    "\n",
    "print(position1); print()"
   ]
  },
  {
   "cell_type": "markdown",
   "metadata": {},
   "source": [
    "#### 1-2. 멀티 행 선택"
   ]
  },
  {
   "cell_type": "code",
   "execution_count": null,
   "metadata": {},
   "outputs": [],
   "source": [
    "# 행 인덱스를 사용하여 2개 이상의 행 선택\n",
    "label2 = df.loc[['서준', '우현']]\n",
    "position2 = df.iloc[[0, 1]]\n",
    "\n",
    "print(label2); print()\n",
    "\n",
    "print(position2); print()"
   ]
  },
  {
   "cell_type": "markdown",
   "metadata": {},
   "source": [
    "#### 1-3. 멀티 행 슬라이스 선택"
   ]
  },
  {
   "cell_type": "code",
   "execution_count": null,
   "metadata": {},
   "outputs": [],
   "source": [
    "# 행 인덱스의 범위를 지정하여 행 선택\n",
    "label3 = df.loc['서준':'우현']\n",
    "position3 = df.iloc[0:1]\n",
    "\n",
    "print(label3); print()\n",
    "\n",
    "print(position3); print()"
   ]
  },
  {
   "cell_type": "markdown",
   "metadata": {},
   "source": [
    "---\n",
    "### 2. 열 선택\n",
    "데이터의 열을 선택하는 방법"
   ]
  },
  {
   "cell_type": "code",
   "execution_count": null,
   "metadata": {},
   "outputs": [],
   "source": [
    "# 사용 데이터\n",
    "dataColumn = {'이름': ['서준', '우현', '인아'],\n",
    "        '수학': [90, 80, 70],\n",
    "        '영어': [98, 89, 95],\n",
    "        '음악': [85, 95, 100],\n",
    "        '체육': [100, 90, 90]}\n",
    "\n",
    "df = pd.DataFrame(dataColumn)\n",
    "print(df); print()"
   ]
  },
  {
   "cell_type": "markdown",
   "metadata": {},
   "source": [
    "#### 2-1. 열 선택"
   ]
  },
  {
   "cell_type": "code",
   "execution_count": null,
   "metadata": {},
   "outputs": [],
   "source": [
    "# '수학 점수 데이터만 선택, 변수 math1에 저장\n",
    "math1 = df['수학']\n",
    "print(math1); print()\n",
    "\n",
    "# '영어' 점수 데이터만 선택, 변수 english에 저장\n",
    "english = df.영어\n",
    "print(english); print()"
   ]
  },
  {
   "cell_type": "markdown",
   "metadata": {},
   "source": [
    "#### 2-2. 멀티 열 선택"
   ]
  },
  {
   "cell_type": "code",
   "execution_count": null,
   "metadata": {},
   "outputs": [],
   "source": [
    "# '음악', '체육' 점수 데이터를 선택, 변수 music_gym에 저장\n",
    "music_gym = df[['음악', '체육']]\n",
    "print(music_gym); print()\n",
    "\n",
    "# '수학' 점수 데이터만 선택, 변수 math2에 저장\n",
    "math2 = df[['수학']]\n",
    "print(math2); print()"
   ]
  },
  {
   "cell_type": "markdown",
   "metadata": {},
   "source": [
    "#### 2-3. 멀티 열 슬라이스 선택"
   ]
  },
  {
   "cell_type": "code",
   "execution_count": null,
   "metadata": {},
   "outputs": [],
   "source": [
    "# 모든 행에 대해서 0행부터 2행 간격으로 선택\n",
    "print(df.iloc[: : 2]); print()\n",
    "\n",
    "# df의 0행부터 2행까지 2행 간격으로 선택\n",
    "print(df.iloc[0:3:2]); print()\n",
    "\n",
    "# 역순으로 인덱싱시 \"슬라이딩 간격\"에 -1 입력\n",
    "# df의 모든 행 선택하여 역순 정렬하려면 df.iloc[: : -1]라고 입력\n",
    "print(df.iloc[ : : -1])"
   ]
  },
  {
   "cell_type": "markdown",
   "metadata": {},
   "source": [
    "---\n",
    "### 3. 데이터 요소 선택"
   ]
  },
  {
   "cell_type": "code",
   "execution_count": null,
   "metadata": {},
   "outputs": [],
   "source": [
    "# 사용 데이터\n",
    "data = {'이름': ['서준', '우현', '인아'],\n",
    "        '수학': [90, 80, 70],\n",
    "        '영어': [98, 89, 95],\n",
    "        '음악': [85, 95, 100],\n",
    "        '체육': [100, 90, 90]}\n",
    "\n",
    "df = pd.DataFrame(data)\n",
    "print(df); print()\n",
    "\n",
    "# 사전 준비 : '이름' 열을 인덱스로 지정한다. df 객체에 변경 사항 반영\n",
    "df.set_index('이름', inplace=True)\n",
    "print(df); print()"
   ]
  },
  {
   "cell_type": "markdown",
   "metadata": {},
   "source": [
    "#### 3-1. 요소 선택 (loc, iloc)"
   ]
  },
  {
   "cell_type": "code",
   "execution_count": null,
   "metadata": {},
   "outputs": [],
   "source": [
    "# 데이터프레임 df의 특정 원소 1개 선택 ('서준'의 '음악' 점수)\n",
    "a = df.loc['서준', '음악']\n",
    "print(a); print()\n",
    "\n",
    "b = df.iloc[0, 2]\n",
    "print(b)"
   ]
  },
  {
   "cell_type": "markdown",
   "metadata": {},
   "source": [
    "#### 3-2. 요소 선택 ( 지정, iloc, loc(슬라이싱) )"
   ]
  },
  {
   "cell_type": "code",
   "execution_count": null,
   "metadata": {},
   "outputs": [],
   "source": [
    "# 데이터프레임 df의 특정 원소 2개 이상 선택 ('서준'의 '음악', '체육' 점수)\n",
    "c = df.loc['서준', ['음악', '체육']]\n",
    "print(c); print()\n",
    "\n",
    "d = df.iloc[0, [2, 3]]\n",
    "print(d); print()\n",
    "\n",
    "e = df.loc['서준', '음악':'체육']\n",
    "print(e); print()"
   ]
  },
  {
   "cell_type": "markdown",
   "metadata": {},
   "source": [
    "#### 3-3. 요소 선택 ( 지정, iloc, loc(슬라이싱), iloc(슬라이싱) )"
   ]
  },
  {
   "cell_type": "code",
   "execution_count": null,
   "metadata": {},
   "outputs": [],
   "source": [
    "# df 2개 이상의 행과 열에 속하는 원소들 선택('서준', '우현'의 '음악', '체육' 점수)\n",
    "g = df.loc[['서준', '우현'], ['음악', '체육']]\n",
    "print(g); print()\n",
    "\n",
    "h = df.iloc[[1, 2], [2, 3]]\n",
    "print(h); print()\n",
    "\n",
    "i = df.loc['서준':'우현', '음악':'체육']\n",
    "print(i); print()\n",
    "\n",
    "j = df.iloc[0:2, 2:]\n",
    "print(j)"
   ]
  }
 ],
 "metadata": {
  "kernelspec": {
   "display_name": "Python 3.9.13 ('base')",
   "language": "python",
   "name": "python3"
  },
  "language_info": {
   "codemirror_mode": {
    "name": "ipython",
    "version": 3
   },
   "file_extension": ".py",
   "mimetype": "text/x-python",
   "name": "python",
   "nbconvert_exporter": "python",
   "pygments_lexer": "ipython3",
   "version": "3.9.13"
  },
  "orig_nbformat": 4,
  "vscode": {
   "interpreter": {
    "hash": "1bacc43f3a5794ff21941cbe3bd67ad18cddb0ff963b4f1013ddec33c94b376d"
   }
  }
 },
 "nbformat": 4,
 "nbformat_minor": 2
}
