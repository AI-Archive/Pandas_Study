{
 "cells": [
  {
   "cell_type": "code",
   "execution_count": 1,
   "metadata": {},
   "outputs": [],
   "source": [
    "import pandas as pd\n",
    "from pandas import Series\n",
    "import numpy as np"
   ]
  },
  {
   "cell_type": "code",
   "execution_count": 7,
   "metadata": {},
   "outputs": [
    {
     "name": "stdout",
     "output_type": "stream",
     "text": [
      "08/01    100\n",
      "08/03    200\n",
      "08/02    300\n",
      "dtype: int64\n"
     ]
    }
   ],
   "source": [
    "# 091 시리즈 정렬 : 시리즈에 저장된 데이터의 순서를 변경\n",
    "data = [100, 300, 200]\n",
    "index = [\"08/01\", \"08/02\", \"08/03\"]\n",
    "s = Series(data, index)\n",
    "\n",
    "print(s.iloc[ [0, 2, 1] ])\n",
    "# print(s.loc[ [\"08/01\", \"08/02\", \"08/03\"] ])"
   ]
  },
  {
   "cell_type": "code",
   "execution_count": 17,
   "metadata": {},
   "outputs": [
    {
     "name": "stdout",
     "output_type": "stream",
     "text": [
      "0    5\n",
      "1    6\n",
      "2    3\n",
      "3    8\n",
      "dtype: int32\n",
      "2    3\n",
      "0    5\n",
      "1    6\n",
      "3    8\n",
      "dtype: int32\n",
      "3    8\n",
      "1    6\n",
      "0    5\n",
      "2    3\n",
      "dtype: int32\n"
     ]
    }
   ],
   "source": [
    "# 092 시리즈 정렬 : 시리즈 저장된 데이터 오름차순 혹은 내림차순 정렬\n",
    "data = np.random.randint(10, size=4)\n",
    "s = Series(data)\n",
    "\n",
    "print(s)    # 원본 시리즈 출력시 정렬되지 않은 데이터 출력됨\n",
    "print(s.sort_values()) # 오른차순 정렬된 결과가 시리즈 객체로 반환\n",
    "print(s.sort_values(ascending=False)) # ascending 옵션 추가시 내림차순으로 데이터 정렬"
   ]
  },
  {
   "cell_type": "code",
   "execution_count": 24,
   "metadata": {},
   "outputs": [
    {
     "name": "stdout",
     "output_type": "stream",
     "text": [
      "a    7\n",
      "b    0\n",
      "c    8\n",
      "d    5\n",
      "dtype: int32\n"
     ]
    }
   ],
   "source": [
    "# 093 시리즈 정렬 : 인덱스 기준 a, b, c 순서로 데이터 정렬\n",
    "s = Series(np.random.randint(10, size=4), [\"a\", \"b\", \"c\", \"d\"])\n",
    "\n",
    "print(s.sort_index()) # 인덱스로 정렬"
   ]
  },
  {
   "cell_type": "code",
   "execution_count": 28,
   "metadata": {},
   "outputs": [
    {
     "name": "stdout",
     "output_type": "stream",
     "text": [
      "0     100000000\n",
      "1    1600000000\n",
      "2    8100000000\n",
      "dtype: int64\n"
     ]
    }
   ],
   "source": [
    "# 094 시리즈 연산 : 시리즈에 네 제곱한 결과를 시리즈 출력\n",
    "data = [100, 200, 300]\n",
    "s = Series(data)\n",
    "print(s**4)"
   ]
  },
  {
   "cell_type": "code",
   "execution_count": 30,
   "metadata": {},
   "outputs": [
    {
     "name": "stdout",
     "output_type": "stream",
     "text": [
      "a    200\n",
      "b    500\n",
      "c    500\n",
      "dtype: int64\n"
     ]
    }
   ],
   "source": [
    "# 095 시리즈 덧셈 : 다음 연산결과 예측\n",
    "data = [100, 300, 200]\n",
    "s0 = Series(data, [\"a\", \"b\", \"c\"])\n",
    "s1 = Series(data, [\"a\", \"c\", \"b\"])\n",
    "print(s0 + s1) # 같은 인덱스 기준으로 덧셈 적용"
   ]
  },
  {
   "cell_type": "code",
   "execution_count": 34,
   "metadata": {},
   "outputs": [
    {
     "name": "stdout",
     "output_type": "stream",
     "text": [
      "5/1    800.0\n",
      "5/2    700.0\n",
      "5/3      NaN\n",
      "5/4      NaN\n",
      "dtype: float64\n"
     ]
    }
   ],
   "source": [
    "# 096 시리즈 뺄셈 : 다음 연산의 결과 예측\n",
    "high = Series(data=[51500, 51200, 52500], index=[\"5/1\", \"5/2\", \"5/3\"])\n",
    "low = Series(data=[50700, 50500, 50500], index=[\"5/1\", \"5/2\", \"5/4\"])\n",
    "\n",
    "diff = high - low\n",
    "print(diff) # 양쪽에 매칭되는 인덱스가 하나라도 존재하지 않을 경우 NaN 할당"
   ]
  },
  {
   "cell_type": "code",
   "execution_count": 39,
   "metadata": {},
   "outputs": [
    {
     "name": "stdout",
     "output_type": "stream",
     "text": [
      "5/1    51500\n",
      "5/2    51200\n",
      "dtype: int64\n"
     ]
    }
   ],
   "source": [
    "# 097 시리즈의 비교연산 ; 52000보다 작은 값 출력\n",
    "s = Series(data=[51500, 51200, 52500], index=[\"5/1\", \"5/2\", \"5/3\"])\n",
    "s\n",
    "조건 = s < 52000\n",
    "print(s[조건])"
   ]
  },
  {
   "cell_type": "code",
   "execution_count": 41,
   "metadata": {},
   "outputs": [
    {
     "name": "stdout",
     "output_type": "stream",
     "text": [
      "5/2    51200\n",
      "5/3    52500\n",
      "dtype: int64\n"
     ]
    }
   ],
   "source": [
    "# 098 시리즈 비교연산\n",
    "s = Series(data=[51500, 51200, 52500], index=[\"5/1\", \"5/2\", \"5/3\"])\n",
    "조건 = s.index > \"5/1\"\n",
    "print(s.loc[조건])"
   ]
  },
  {
   "cell_type": "code",
   "execution_count": 49,
   "metadata": {},
   "outputs": [
    {
     "name": "stdout",
     "output_type": "stream",
     "text": [
      "5/1    51500\n",
      "5/3    52500\n",
      "dtype: int64\n",
      "\n",
      "5/1    51500\n",
      "5/3    52500\n",
      "dtype: int64\n"
     ]
    }
   ],
   "source": [
    "# 099 시리즈 비교연산\n",
    "s = Series(data=[51500, 51200, 52500], index=[\"5/1\", \"5/2\", \"5/3\"])\n",
    "\n",
    "조건 = (s >= 51400) & (s <= 53000)\n",
    "print(s[조건]); print()\n",
    "\n",
    "\n",
    "조건1 = s >= 51400\n",
    "조건2 = s <= 53000\n",
    "# print(조건1 & 조건2)\n",
    "print(s[조건1 & 조건2])"
   ]
  },
  {
   "cell_type": "code",
   "execution_count": 52,
   "metadata": {},
   "outputs": [
    {
     "data": {
      "text/plain": [
       "2"
      ]
     },
     "execution_count": 52,
     "metadata": {},
     "output_type": "execute_result"
    }
   ],
   "source": [
    "# 100 시리즈 비교연산 : 시리즈에서 가격이 52000원 이하였던 날은 몇일?\n",
    "s = Series(data=[51500, 51200, 52500], index=[\"5/1\", \"5/2\", \"5/3\"])\n",
    "\n",
    "조건 = s <= 52000\n",
    "len(s[조건])"
   ]
  }
 ],
 "metadata": {
  "kernelspec": {
   "display_name": "Python 3.9.13 ('base')",
   "language": "python",
   "name": "python3"
  },
  "language_info": {
   "codemirror_mode": {
    "name": "ipython",
    "version": 3
   },
   "file_extension": ".py",
   "mimetype": "text/x-python",
   "name": "python",
   "nbconvert_exporter": "python",
   "pygments_lexer": "ipython3",
   "version": "3.9.13"
  },
  "orig_nbformat": 4,
  "vscode": {
   "interpreter": {
    "hash": "1bacc43f3a5794ff21941cbe3bd67ad18cddb0ff963b4f1013ddec33c94b376d"
   }
  }
 },
 "nbformat": 4,
 "nbformat_minor": 2
}
