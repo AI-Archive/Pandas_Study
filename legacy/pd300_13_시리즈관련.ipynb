{
 "cells": [
  {
   "cell_type": "code",
   "execution_count": 2,
   "metadata": {},
   "outputs": [],
   "source": [
    "import pandas as pd\n",
    "from pandas import Series\n",
    "import numpy as np"
   ]
  },
  {
   "cell_type": "code",
   "execution_count": 7,
   "metadata": {},
   "outputs": [
    {
     "data": {
      "text/plain": [
       "0    1.0\n",
       "1    2.0\n",
       "2    3.0\n",
       "3    4.0\n",
       "dtype: float64"
      ]
     },
     "execution_count": 7,
     "metadata": {},
     "output_type": "execute_result"
    }
   ],
   "source": [
    "# 121 dropna : NaN값 제거\n",
    "data = [1, 2, 3, 4, np.nan]\n",
    "s = Series(data=data)\n",
    "s.dropna()"
   ]
  },
  {
   "cell_type": "code",
   "execution_count": 12,
   "metadata": {},
   "outputs": [
    {
     "data": {
      "text/plain": [
       "9    10\n",
       "8     9\n",
       "7     8\n",
       "dtype: int64"
      ]
     },
     "execution_count": 12,
     "metadata": {},
     "output_type": "execute_result"
    }
   ],
   "source": [
    "# 122 nlargest : nlargest 메서드 사용하여 값이 큰 3개 출력\n",
    "data = range(1, 11)\n",
    "s = Series(data=data)\n",
    "s.nlargest(n=3)"
   ]
  },
  {
   "cell_type": "code",
   "execution_count": 14,
   "metadata": {},
   "outputs": [
    {
     "data": {
      "text/plain": [
       "0    1\n",
       "1    2\n",
       "2    3\n",
       "dtype: int64"
      ]
     },
     "execution_count": 14,
     "metadata": {},
     "output_type": "execute_result"
    }
   ],
   "source": [
    "# 123 nsmallest : 값이 작은 3개 출력\n",
    "data = range(1, 11)\n",
    "s = Series(data=data)\n",
    "s.nsmallest(n=3)"
   ]
  },
  {
   "cell_type": "code",
   "execution_count": 21,
   "metadata": {},
   "outputs": [
    {
     "data": {
      "text/plain": [
       "0    2020\n",
       "1    2021\n",
       "2    2022\n",
       "dtype: int64"
      ]
     },
     "execution_count": 21,
     "metadata": {},
     "output_type": "execute_result"
    }
   ],
   "source": [
    "# 124 Series.dt.year : 시리즈 객체값에서 연도만 가져오기\n",
    "from datetime import datetime\n",
    "s = pd.Series([datetime(2020,1,1), datetime(2021,1,1), datetime(2022,1,1)])\n",
    "s.dt.year"
   ]
  },
  {
   "cell_type": "code",
   "execution_count": 26,
   "metadata": {},
   "outputs": [
    {
     "data": {
      "text/plain": [
       "Int64Index([2020, 2021, 2022], dtype='int64')"
      ]
     },
     "execution_count": 26,
     "metadata": {},
     "output_type": "execute_result"
    }
   ],
   "source": [
    "# 125 시리즈 시계열 인덱스 : 시리즈 인덱스에서 연도만 가져오기\n",
    "index = [datetime(2020,1,1), datetime(2021,1,1), datetime(2022,1,1)]\n",
    "data = [100, 200, 300]\n",
    "s = pd.Series(data=data, index=index)\n",
    "s.index.year"
   ]
  },
  {
   "cell_type": "code",
   "execution_count": 28,
   "metadata": {},
   "outputs": [
    {
     "data": {
      "text/plain": [
       "0    1\n",
       "1    2\n",
       "2    3\n",
       "dtype: int64"
      ]
     },
     "execution_count": 28,
     "metadata": {},
     "output_type": "execute_result"
    }
   ],
   "source": [
    "# 126 Series.dt.day : 다음 시리즈 객체의 값에서 날짜 값만 가져오기\n",
    "s = pd.Series([datetime(2022,1,1), datetime(2022,1,2), datetime(2022,1,3)])\n",
    "s.dt.day"
   ]
  },
  {
   "cell_type": "code",
   "execution_count": 33,
   "metadata": {},
   "outputs": [
    {
     "data": {
      "text/plain": [
       "Index(['2020-01-01 00:00:00', '2021-01-01 00:00:00', '2022-01-01 00:00:00'], dtype='object')"
      ]
     },
     "execution_count": 33,
     "metadata": {},
     "output_type": "execute_result"
    }
   ],
   "source": [
    "# 127 strftime : 다음 포맷의 문자열 리스트\n",
    "index = [datetime(2020,1,1), datetime(2021,1,1), datetime(2022,1,1)]\n",
    "data = [100, 200, 300]\n",
    "s = pd.Series(data=data, index=index)\n",
    "s.index.strftime(\"%Y-%m-%d 00:00:00\")\n"
   ]
  },
  {
   "cell_type": "code",
   "execution_count": 36,
   "metadata": {},
   "outputs": [
    {
     "data": {
      "text/plain": [
       "'000020;000040;005930'"
      ]
     },
     "execution_count": 36,
     "metadata": {},
     "output_type": "execute_result"
    }
   ],
   "source": [
    "# 128 Series.str.cat : 문자열 합침\n",
    "s = pd.Series([\"000020\", \"000040\", \"005930\"])\n",
    "s.str.cat(sep=';')"
   ]
  },
  {
   "cell_type": "code",
   "execution_count": 39,
   "metadata": {},
   "outputs": [
    {
     "data": {
      "text/plain": [
       "0    A000020\n",
       "1    A000040\n",
       "2    A005930\n",
       "dtype: object"
      ]
     },
     "execution_count": 39,
     "metadata": {},
     "output_type": "execute_result"
    }
   ],
   "source": [
    "# 129 문자열 추가 : 시리즈 객체 종목 코드에 'A'를 추가\n",
    "s = pd.Series([\"000020\", \"000040\", \"005930\"])\n",
    "'A'+s"
   ]
  },
  {
   "cell_type": "code",
   "execution_count": 40,
   "metadata": {},
   "outputs": [
    {
     "data": {
      "text/plain": [
       "0    000020\n",
       "1    000040\n",
       "2    005930\n",
       "dtype: object"
      ]
     },
     "execution_count": 40,
     "metadata": {},
     "output_type": "execute_result"
    }
   ],
   "source": [
    "# 130 Series.str.zfill : 아래 시리즈 값은 원래 6자리여야 한다. 이를 복원한다.\n",
    "\n",
    "s = pd.Series([\"20\", \"40\", \"5930\"])\n",
    "s.str.zfill(6)"
   ]
  }
 ],
 "metadata": {
  "kernelspec": {
   "display_name": "Python 3.9.13 ('base')",
   "language": "python",
   "name": "python3"
  },
  "language_info": {
   "codemirror_mode": {
    "name": "ipython",
    "version": 3
   },
   "file_extension": ".py",
   "mimetype": "text/x-python",
   "name": "python",
   "nbconvert_exporter": "python",
   "pygments_lexer": "ipython3",
   "version": "3.9.13"
  },
  "orig_nbformat": 4,
  "vscode": {
   "interpreter": {
    "hash": "1bacc43f3a5794ff21941cbe3bd67ad18cddb0ff963b4f1013ddec33c94b376d"
   }
  }
 },
 "nbformat": 4,
 "nbformat_minor": 2
}
