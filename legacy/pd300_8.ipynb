{
 "cells": [
  {
   "cell_type": "markdown",
   "metadata": {},
   "source": [
    "## 04. 시리즈 인덱싱과 슬라이싱"
   ]
  },
  {
   "cell_type": "code",
   "execution_count": 4,
   "metadata": {},
   "outputs": [],
   "source": [
    "import pandas as pd\n",
    "from pandas import Series\n",
    "import numpy as np"
   ]
  },
  {
   "cell_type": "code",
   "execution_count": 5,
   "metadata": {},
   "outputs": [
    {
     "name": "stdout",
     "output_type": "stream",
     "text": [
      "object\n"
     ]
    }
   ],
   "source": [
    "# 071 시리즈 타입 : 다음 코드 수행을 위해 어떤 데이터 타입이 출력되는가?\n",
    "s = pd.Series([1, 2, 'python'])\n",
    "print(s.dtype)\n",
    "\n",
    "# object 타입이 출력됩니다.\n",
    "# 시리즈는 하나의 데이터 타입만 가질 수 있습니다.\n",
    "# 예제에서처럼 숫자와 문자가 섞여 있는 경우 하나의 데이터 타입으로 표현하기 위하여 숫자를 문자로 변환 후 문자열 타입의 데이터가 있는 시리즈 객체를 생성합니다."
   ]
  },
  {
   "cell_type": "code",
   "execution_count": 6,
   "metadata": {},
   "outputs": [
    {
     "data": {
      "text/plain": [
       "0    1\n",
       "1    2\n",
       "2    3\n",
       "dtype: object"
      ]
     },
     "execution_count": 6,
     "metadata": {},
     "output_type": "execute_result"
    }
   ],
   "source": [
    "# 072 시리즈 타입 변경 : 다음 시리즈 객체의 데이터 타입을 int32로 변경\n",
    "s = pd.Series(['1', '2', '3'])\n",
    "s.astype('int32')\n",
    "s"
   ]
  },
  {
   "cell_type": "code",
   "execution_count": 7,
   "metadata": {},
   "outputs": [
    {
     "data": {
      "text/plain": [
       "BTC    50000.0\n",
       "XRP        1.0\n",
       "ETH     4000.0\n",
       "dtype: float64"
      ]
     },
     "execution_count": 7,
     "metadata": {},
     "output_type": "execute_result"
    }
   ],
   "source": [
    "# 073 시리즈 데이터 타입 설정 : BTC 금액 50000, XRP 금액 1, ETH 금액 4000 시리즈 객체 생성, 데이터 float\n",
    "data = {\n",
    "    'BTC': 50000.0,\n",
    "    'XRP': 1.0,\n",
    "    'ETH': 4000.0\n",
    "}\n",
    "\n",
    "s = pd.Series(data)\n",
    "s.astype(float)\n",
    "s"
   ]
  },
  {
   "cell_type": "code",
   "execution_count": 8,
   "metadata": {},
   "outputs": [
    {
     "data": {
      "text/plain": [
       "200"
      ]
     },
     "execution_count": 8,
     "metadata": {},
     "output_type": "execute_result"
    }
   ],
   "source": [
    "# 074 시리즈 인덱싱 (대괄호 사용하기) : 다음 데이터를 시리즈 객체로 표현\n",
    "data = [100, 200, 300]\n",
    "index = [\"철수\", \"영희\", \"아름\"]\n",
    "s = Series(data, index)\n",
    "s[1]\n"
   ]
  },
  {
   "cell_type": "code",
   "execution_count": 9,
   "metadata": {},
   "outputs": [
    {
     "data": {
      "text/plain": [
       "200"
      ]
     },
     "execution_count": 9,
     "metadata": {},
     "output_type": "execute_result"
    }
   ],
   "source": [
    "# 075 시리즈 인덱싱 (iloc 속성 사용하기)\n",
    "data = [100, 200, 300]\n",
    "index = [\"철수\", \"영희\", \"아름\"]\n",
    "s = Series(data, index)\n",
    "s.iloc[1]"
   ]
  },
  {
   "cell_type": "code",
   "execution_count": 10,
   "metadata": {},
   "outputs": [
    {
     "data": {
      "text/plain": [
       "200"
      ]
     },
     "execution_count": 10,
     "metadata": {},
     "output_type": "execute_result"
    }
   ],
   "source": [
    "# 076 시리즈 인덱싱 (loc 속성 사용하기)\n",
    "data = [100, 200, 300]\n",
    "index = [\"철수\", \"영희\", \"아름\"]\n",
    "s = Series(data, index)\n",
    "s.loc[\"영희\"]"
   ]
  },
  {
   "cell_type": "code",
   "execution_count": 15,
   "metadata": {},
   "outputs": [
    {
     "data": {
      "text/plain": [
       "200"
      ]
     },
     "execution_count": 15,
     "metadata": {},
     "output_type": "execute_result"
    }
   ],
   "source": [
    "# 077 시리즈 인덱싱 (인덱스 사용하기)\n",
    "data = [100, 200, 300]\n",
    "index = [\"철수\", \"영희\", \"아름\"]\n",
    "s = Series(data, index)\n",
    "# s[\"영희\"]\n",
    "\n",
    "s.영희"
   ]
  },
  {
   "cell_type": "code",
   "execution_count": 17,
   "metadata": {},
   "outputs": [
    {
     "data": {
      "text/plain": [
       "철수    100\n",
       "영희    200\n",
       "dtype: int64"
      ]
     },
     "execution_count": 17,
     "metadata": {},
     "output_type": "execute_result"
    }
   ],
   "source": [
    "# 078 시리즈 슬라이싱 : 100, 200 출력\n",
    "data = [100, 200, 300]\n",
    "index = [\"철수\", \"영희\", \"아름\"]\n",
    "s = Series(data, index)\n",
    "s[[\"철수\", \"영희\"]]"
   ]
  },
  {
   "cell_type": "code",
   "execution_count": 18,
   "metadata": {},
   "outputs": [
    {
     "name": "stdout",
     "output_type": "stream",
     "text": [
      "Index(['08/01', '08/02', '08/03'], dtype='object')\n"
     ]
    }
   ],
   "source": [
    "# 079 시리즈 슬라이싱 : 시리즈에서 상위 3개의 데이터의 날짜(인덱스)를 출력\n",
    "data = [100, 200, 300, 400, 500, 600]\n",
    "index = [\"08/01\", \"08/02\", \"08/03\", \"08/04\", \"08/05\", \"08/06\"]\n",
    "s = Series(data, index)\n",
    "\n",
    "print(s.iloc[0:3].index)"
   ]
  },
  {
   "cell_type": "code",
   "execution_count": 20,
   "metadata": {},
   "outputs": [
    {
     "data": {
      "text/plain": [
       "08/01    100\n",
       "08/03    300\n",
       "08/05    500\n",
       "dtype: int64"
      ]
     },
     "execution_count": 20,
     "metadata": {},
     "output_type": "execute_result"
    }
   ],
   "source": [
    "# 080 시리즈 슬라이싱 : 시리즈에서 100, 300, 500 출력\n",
    "data = [100, 200, 300, 400, 500, 600] \n",
    "index = [\"08/01\", \"08/02\", \"08/03\", \"08/04\", \"08/05\", \"08/06\"] \n",
    "s = Series(data, index)\n",
    "\n",
    "s.iloc[0::2]"
   ]
  }
 ],
 "metadata": {
  "kernelspec": {
   "display_name": "Python 3.9.13 ('base')",
   "language": "python",
   "name": "python3"
  },
  "language_info": {
   "codemirror_mode": {
    "name": "ipython",
    "version": 3
   },
   "file_extension": ".py",
   "mimetype": "text/x-python",
   "name": "python",
   "nbconvert_exporter": "python",
   "pygments_lexer": "ipython3",
   "version": "3.9.13"
  },
  "orig_nbformat": 4,
  "vscode": {
   "interpreter": {
    "hash": "1bacc43f3a5794ff21941cbe3bd67ad18cddb0ff963b4f1013ddec33c94b376d"
   }
  }
 },
 "nbformat": 4,
 "nbformat_minor": 2
}
